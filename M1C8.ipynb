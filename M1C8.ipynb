{
  "cells": [
    {
      "cell_type": "markdown",
      "metadata": {
        "id": "view-in-github",
        "colab_type": "text"
      },
      "source": [
        "<a href=\"https://colab.research.google.com/github/MarlenGabrich/Charapy/blob/main/M1C8.ipynb\" target=\"_parent\"><img src=\"https://colab.research.google.com/assets/colab-badge.svg\" alt=\"Open In Colab\"/></a>"
      ]
    },
    {
      "cell_type": "markdown",
      "metadata": {
        "id": "I1UKw0fIYB73"
      },
      "source": [
        "# Práctica Clase 8"
      ]
    },
    {
      "cell_type": "markdown",
      "metadata": {
        "id": "YpD64cKKYB77"
      },
      "source": [
        "<h2>Algoritmos de Ordenamiento</h2>"
      ]
    },
    {
      "cell_type": "markdown",
      "metadata": {
        "id": "8SQ0vwC0YB79"
      },
      "source": [
        "1) Dada la función provista 'ListaDesordenada' implementar los algoritmos de ordenamiento vistos en clase:\n",
        "<ul>\n",
        "    <ol>Selección</ol>\n",
        "    <ol>Burbuja</ol>\n",
        "</ul>"
      ]
    },
    {
      "cell_type": "code",
      "execution_count": null,
      "metadata": {
        "id": "MB2n-UqIYB8A"
      },
      "outputs": [],
      "source": [
        "def ListaDesordenada(desorden, cantidad):\n",
        "    '''\n",
        "    Esta función devuelve una lista\n",
        "    desorden = es un porcentaje de desordenamiento\n",
        "    cantidad = cantidad de elementos de la lista\n",
        "    '''\n",
        "    import random as r\n",
        "    import numpy as np\n",
        "\n",
        "    lista = list(range(0, cantidad))\n",
        "\n",
        "    desorden = int(cantidad * desorden / 100)\n",
        "\n",
        "    while (desorden > 0):\n",
        "        i = r.randint(0,cantidad-1)\n",
        "        j = r.randint(0,cantidad-1)\n",
        "        aux = lista[i]\n",
        "        lista[i] = lista[j]\n",
        "        lista[j] = aux\n",
        "        desorden-=1\n",
        "\n",
        "    return lista"
      ]
    },
    {
      "cell_type": "code",
      "execution_count": null,
      "metadata": {
        "id": "c_ej-uC0YB8D"
      },
      "outputs": [],
      "source": [
        "ListaDesordenada(90, 20) #Lista de 20 elementos un 90% desordenada"
      ]
    },
    {
      "cell_type": "code",
      "execution_count": null,
      "metadata": {
        "id": "ycOEJFy4YB8F"
      },
      "outputs": [],
      "source": [
        "ListaDesordenada(50, 20) #Lista de 20 elementos un 50% desordenada"
      ]
    },
    {
      "cell_type": "code",
      "execution_count": null,
      "metadata": {
        "id": "8f9jK9NlYB8G"
      },
      "outputs": [],
      "source": [
        "ListaDesordenada(50, 5) #Lista de 20 elementos un 0% desordenada"
      ]
    },
    {
      "cell_type": "code",
      "execution_count": null,
      "metadata": {
        "id": "WKYTCUi7YB8H"
      },
      "outputs": [],
      "source": [
        "def ord_por_seleccion(lista):\n",
        "    #completar el código\n",
        "    return lista"
      ]
    },
    {
      "cell_type": "code",
      "execution_count": null,
      "metadata": {
        "id": "pliwe65kYB8I"
      },
      "outputs": [],
      "source": [
        "lis = ListaDesordenada(100, 20)\n",
        "print(lis)"
      ]
    },
    {
      "cell_type": "code",
      "execution_count": null,
      "metadata": {
        "id": "1VJWedjjYB8K"
      },
      "outputs": [],
      "source": [
        "orden_seleccion(lis)"
      ]
    },
    {
      "cell_type": "code",
      "execution_count": null,
      "metadata": {
        "id": "kxpDXxdUYB8L"
      },
      "outputs": [],
      "source": [
        "ord_por_seleccion(lis)"
      ]
    },
    {
      "cell_type": "code",
      "execution_count": null,
      "metadata": {
        "id": "gV_gyo3_YB8N"
      },
      "outputs": [],
      "source": [
        "def ord_por_burbujeo(lista):\n",
        "    #completar el código\n",
        "    return lista"
      ]
    },
    {
      "cell_type": "code",
      "execution_count": null,
      "metadata": {
        "id": "WFizNG3pYB8N"
      },
      "outputs": [],
      "source": [
        "lis = ListaDesordenada(100, 20)\n",
        "print(lis)"
      ]
    },
    {
      "cell_type": "code",
      "execution_count": null,
      "metadata": {
        "id": "Ds-H7uCyYB8O"
      },
      "outputs": [],
      "source": [
        "ord_por_burbujeo(lis)"
      ]
    },
    {
      "cell_type": "markdown",
      "metadata": {
        "id": "mLPn4YNSYB8P"
      },
      "source": [
        "2) Para las siguientes instancias, probar el tiempo de duración del ordenamiento de cada uno de los métodos"
      ]
    },
    {
      "cell_type": "code",
      "execution_count": null,
      "metadata": {
        "id": "ZUP7go_TYB8Q"
      },
      "outputs": [],
      "source": [
        "import time"
      ]
    },
    {
      "cell_type": "code",
      "execution_count": null,
      "metadata": {
        "id": "eBobvTaJYB8R"
      },
      "outputs": [],
      "source": [
        "start_time_total = time.time()\n",
        "total_time_total = time.time() - start_time_total\n",
        "print(\"Llevo {} segundos en total.\".format(total_time_total))"
      ]
    },
    {
      "cell_type": "code",
      "execution_count": null,
      "metadata": {
        "id": "UZOnE1NRYB8R"
      },
      "outputs": [],
      "source": [
        "N = 50000"
      ]
    },
    {
      "cell_type": "code",
      "execution_count": null,
      "metadata": {
        "id": "ot72W8KYYB8S"
      },
      "outputs": [],
      "source": [
        "lis1 = ListaDesordenada(100, N)\n",
        "lis2 = lis1.copy()\n",
        "lis3 = lis1.copy()"
      ]
    },
    {
      "cell_type": "code",
      "execution_count": null,
      "metadata": {
        "id": "RFH8tcasYB8T"
      },
      "outputs": [],
      "source": [
        "id(lis1)"
      ]
    },
    {
      "cell_type": "code",
      "execution_count": null,
      "metadata": {
        "id": "2PHVEgPQYB8T"
      },
      "outputs": [],
      "source": [
        "id(lis2)"
      ]
    },
    {
      "cell_type": "code",
      "execution_count": null,
      "metadata": {
        "id": "qhY4GZQ0YB8U"
      },
      "outputs": [],
      "source": [
        "id(lis3)"
      ]
    },
    {
      "cell_type": "code",
      "execution_count": null,
      "metadata": {
        "id": "Q3r7f06xYB8V"
      },
      "outputs": [],
      "source": [
        "start_time_total = time.time()\n",
        "lis1 = ord_por_burbujeo(lis1)\n",
        "total_time_total = time.time() - start_time_total\n",
        "print(\"Llevo {} segundos en total.\".format(total_time_total))"
      ]
    },
    {
      "cell_type": "code",
      "execution_count": null,
      "metadata": {
        "id": "OZopweIsYB8W"
      },
      "outputs": [],
      "source": [
        "start_time_total = time.time()\n",
        "lis2 = ord_por_seleccion(lis2)\n",
        "total_time_total = time.time() - start_time_total\n",
        "print(\"Llevo {} segundos en total.\".format(total_time_total))"
      ]
    },
    {
      "cell_type": "code",
      "execution_count": null,
      "metadata": {
        "id": "cLxhgoSsYB8X"
      },
      "outputs": [],
      "source": [
        "start_time_total = time.time()\n",
        "lis2 = orden_seleccion(lis3)\n",
        "total_time_total = time.time() - start_time_total\n",
        "print(\"Llevo {} segundos en total.\".format(total_time_total))"
      ]
    },
    {
      "cell_type": "code",
      "execution_count": null,
      "metadata": {
        "id": "SAumjAa8YB8Y"
      },
      "outputs": [],
      "source": [
        "lis1 = ListaDesordenada(50, N)\n",
        "lis2 = lis1.copy()\n",
        "lis3 = lis1.copy()"
      ]
    },
    {
      "cell_type": "code",
      "execution_count": null,
      "metadata": {
        "id": "9UlJ3s3CYB8Z"
      },
      "outputs": [],
      "source": [
        "start_time_total = time.time()\n",
        "lis1 = ord_por_burbujeo(lis1)\n",
        "total_time_total = time.time() - start_time_total\n",
        "print(\"Llevo {} segundos en total.\".format(total_time_total))"
      ]
    },
    {
      "cell_type": "code",
      "execution_count": null,
      "metadata": {
        "id": "msBiFH1fYB8a"
      },
      "outputs": [],
      "source": [
        "start_time_total = time.time()\n",
        "lis2 = ord_por_seleccion(lis2)\n",
        "total_time_total = time.time() - start_time_total\n",
        "print(\"Llevo {} segundos en total.\".format(total_time_total))"
      ]
    },
    {
      "cell_type": "code",
      "execution_count": null,
      "metadata": {
        "id": "bRRU3s8jYB8b"
      },
      "outputs": [],
      "source": [
        "start_time_total = time.time()\n",
        "lis3 = orden_seleccion(lis3)\n",
        "total_time_total = time.time() - start_time_total\n",
        "print(\"Llevo {} segundos en total.\".format(total_time_total))"
      ]
    },
    {
      "cell_type": "code",
      "execution_count": null,
      "metadata": {
        "id": "nIisEd_8YB8b"
      },
      "outputs": [],
      "source": [
        "lis1 = ord_por_burbujeo(lis1)"
      ]
    },
    {
      "cell_type": "code",
      "execution_count": null,
      "metadata": {
        "id": "ENBBh612YB8c"
      },
      "outputs": [],
      "source": [
        "lis1.sort()"
      ]
    },
    {
      "cell_type": "code",
      "execution_count": null,
      "metadata": {
        "id": "e6o1CMDYYB8d"
      },
      "outputs": [],
      "source": [
        "lis1[0:12]"
      ]
    },
    {
      "cell_type": "code",
      "execution_count": null,
      "metadata": {
        "id": "yY0YGQPeYB8e"
      },
      "outputs": [],
      "source": [
        "lis1 = ListaDesordenada(0, N)\n",
        "lis2 = lis1.copy()\n",
        "lis3 = lis1.copy()"
      ]
    },
    {
      "cell_type": "code",
      "execution_count": null,
      "metadata": {
        "id": "UyVDHX5yYB8f"
      },
      "outputs": [],
      "source": [
        "start_time_total = time.time()\n",
        "lis1 = ord_por_burbujeo(lis1)\n",
        "total_time_total = time.time() - start_time_total\n",
        "print(\"Llevo {} segundos en total.\".format(total_time_total))"
      ]
    },
    {
      "cell_type": "code",
      "execution_count": null,
      "metadata": {
        "id": "2Hx5m6jlYB8g"
      },
      "outputs": [],
      "source": [
        "start_time_total = time.time()\n",
        "lis2 = ord_por_seleccion(lis2)\n",
        "total_time_total = time.time() - start_time_total\n",
        "print(\"Llevo {} segundos en total.\".format(total_time_total))"
      ]
    },
    {
      "cell_type": "code",
      "execution_count": null,
      "metadata": {
        "id": "rv9z8IHsYB8g"
      },
      "outputs": [],
      "source": [
        "start_time_total = time.time()\n",
        "lis2 = orden_seleccion(lis3)\n",
        "total_time_total = time.time() - start_time_total\n",
        "print(\"Llevo {} segundos en total.\".format(total_time_total))"
      ]
    }
  ],
  "metadata": {
    "interpreter": {
      "hash": "11938c6bc6919ae2720b4d5011047913343b08a43b18698fd82dedb0d4417594"
    },
    "kernelspec": {
      "display_name": "Python 3.9.7 64-bit",
      "language": "python",
      "name": "python3"
    },
    "language_info": {
      "codemirror_mode": {
        "name": "ipython",
        "version": 3
      },
      "file_extension": ".py",
      "mimetype": "text/x-python",
      "name": "python",
      "nbconvert_exporter": "python",
      "pygments_lexer": "ipython3",
      "version": "3.9.7"
    },
    "colab": {
      "provenance": [],
      "include_colab_link": true
    }
  },
  "nbformat": 4,
  "nbformat_minor": 0
}