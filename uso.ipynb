{
 "cells": [
  {
   "cell_type": "code",
   "execution_count": 1,
   "metadata": {},
   "outputs": [],
   "source": [
    "import pandas as pd\n",
    "import numpy as np\n",
    "from scipy.optimize import curve_fit"
   ]
  },
  {
   "cell_type": "code",
   "execution_count": 2,
   "metadata": {},
   "outputs": [],
   "source": [
    "df = pd.read_csv('com.csv')\n",
    "carbon_number = df['component']\n",
    "molar_fraction = df['molar_percentage']\n",
    "molecular_weight = df['molar_mass']\n",
    "density = df['density']\n",
    "\n",
    "carbonnumber_max = carbon_number.values[-2]\n",
    "molar_fraction_max = molar_fraction.values[-2]\n",
    "molecular_weight_max = molecular_weight.values[-2]"
   ]
  },
  {
   "cell_type": "markdown",
   "metadata": {},
   "source": [
    "Primero ajusto los parámetros para obtener todas las constantes intervinientes"
   ]
  },
  {
   "cell_type": "code",
   "execution_count": 3,
   "metadata": {},
   "outputs": [
    {
     "data": {
      "text/plain": [
       "{'A': 5.269814253877877,\n",
       " 'B': -2.693453959800989,\n",
       " 'L': 0.5181480379693734,\n",
       " 'M': 0.2693755951739469,\n",
       " 'Ac': 2.9969050222015183,\n",
       " 'Bc': -87.60869574376241,\n",
       " 'Ad': -0.4578051749233114,\n",
       " 'C': 13.913346938986416}"
      ]
     },
     "execution_count": 3,
     "metadata": {},
     "output_type": "execute_result"
    }
   ],
   "source": [
    "from recore import Foo_fit\n",
    "foo_fit = Foo_fit()\n",
    "\n",
    "A,B = foo_fit.fit_AB(carbon_number,molar_fraction)\n",
    "L,M = foo_fit.fit_LM(carbon_number, density)\n",
    "Ac, Bc = foo_fit.fit_AcBc(carbon_number, molar_fraction)\n",
    "Ad = foo_fit.fit_Ad(carbon_number, density)[0]\n",
    "C = foo_fit.fit_C(carbon_number,molecular_weight) [0]\n",
    "\n",
    "fit_parameters = {\n",
    "    'A':A, 'B':B, 'L':L, 'M':M, 'Ac':Ac, 'Bc':Bc\n",
    "    ,'Ad':Ad,'C':C\n",
    "}\n",
    "\n",
    "fit_parameters"
   ]
  },
  {
   "cell_type": "markdown",
   "metadata": {},
   "source": [
    "Para no utilizar los valores establecidos aleatoriamente por Pedersen para el número máximo de carbono\n",
    "calculo el valor máximo con el criterio de Cismondi et. al"
   ]
  },
  {
   "cell_type": "code",
   "execution_count": 4,
   "metadata": {},
   "outputs": [
    {
     "ename": "TypeError",
     "evalue": "can't multiply sequence by non-int of type 'numpy.float64'",
     "output_type": "error",
     "traceback": [
      "\u001b[0;31m---------------------------------------------------------------------------\u001b[0m",
      "\u001b[0;31mTypeError\u001b[0m                                 Traceback (most recent call last)",
      "\u001b[1;32m/home/marlen/Charapy/Charapy/uso.ipynb Cell 6\u001b[0m in \u001b[0;36m<cell line: 6>\u001b[0;34m()\u001b[0m\n\u001b[1;32m      <a href='vscode-notebook-cell://wsl%2Bubuntu/home/marlen/Charapy/Charapy/uso.ipynb#W5sdnNjb2RlLXJlbW90ZQ%3D%3D?line=2'>3</a>\u001b[0m residual_fraction \u001b[39m=\u001b[39m Residual_fraction(molecular_weight_max,molar_fraction_max)\n\u001b[1;32m      <a href='vscode-notebook-cell://wsl%2Bubuntu/home/marlen/Charapy/Charapy/uso.ipynb#W5sdnNjb2RlLXJlbW90ZQ%3D%3D?line=4'>5</a>\u001b[0m carbon_range_it \u001b[39m=\u001b[39m \u001b[39mlist\u001b[39m(\u001b[39mrange\u001b[39m(carbonnumber_max,\u001b[39m201\u001b[39m,\u001b[39m1\u001b[39m))\n\u001b[0;32m----> <a href='vscode-notebook-cell://wsl%2Bubuntu/home/marlen/Charapy/Charapy/uso.ipynb#W5sdnNjb2RlLXJlbW90ZQ%3D%3D?line=5'>6</a>\u001b[0m res_carbon_number_mx \u001b[39m=\u001b[39m residual_fraction\u001b[39m.\u001b[39;49mcarbon_number_max(carbon_range_it, Ac, Bc, C)\n",
      "File \u001b[0;32m~/Charapy/Charapy/recore.py:501\u001b[0m, in \u001b[0;36mResidual_fraction.carbon_number_max\u001b[0;34m(self, carbon_range, Ac, Bc, C)\u001b[0m\n\u001b[1;32m    497\u001b[0m proper_plus \u001b[39m=\u001b[39m Proper_plus()\n\u001b[1;32m    499\u001b[0m carbonnumber_max \u001b[39m=\u001b[39m carbon_range[\u001b[39m0\u001b[39m]\n\u001b[0;32m--> 501\u001b[0m molarfraction_values \u001b[39m=\u001b[39m distribution_cismondi\u001b[39m.\u001b[39;49mc_molar_fraction(carbon_range,Ac,Bc)\n\u001b[1;32m    502\u001b[0m molecularweight_values \u001b[39m=\u001b[39m distribution_cismondi\u001b[39m.\u001b[39mc_molecular_weight(carbon_range,C)\n\u001b[1;32m    503\u001b[0m molecularplus, molarfractionplus \u001b[39m=\u001b[39m proper_plus\u001b[39m.\u001b[39mproperties_plus(\n\u001b[1;32m    504\u001b[0m     molarfraction_values, molecularweight_values, item\n\u001b[1;32m    505\u001b[0m )\n",
      "File \u001b[0;32m~/Charapy/Charapy/recore.py:159\u001b[0m, in \u001b[0;36mDistribution_cismondi.c_molar_fraction\u001b[0;34m(self, cn, Ac, Bc)\u001b[0m\n\u001b[1;32m    156\u001b[0m \u001b[39mif\u001b[39;00m Ac \u001b[39mis\u001b[39;00m \u001b[39mNone\u001b[39;00m \u001b[39mand\u001b[39;00m Bc \u001b[39mis\u001b[39;00m \u001b[39mNone\u001b[39;00m:\n\u001b[1;32m    157\u001b[0m     Ac, Bc \u001b[39m=\u001b[39m Foos()\u001b[39m.\u001b[39mintro_fit(foo_fit\u001b[39m.\u001b[39mfit_AcBc, \u001b[39m'\u001b[39m\u001b[39mcn\u001b[39m\u001b[39m'\u001b[39m, \u001b[39m'\u001b[39m\u001b[39mz\u001b[39m\u001b[39m'\u001b[39m)\n\u001b[0;32m--> 159\u001b[0m \u001b[39mreturn\u001b[39;00m np\u001b[39m.\u001b[39mexp((Ac\u001b[39m*\u001b[39;49mcn) \u001b[39m+\u001b[39m Bc)\n",
      "\u001b[0;31mTypeError\u001b[0m: can't multiply sequence by non-int of type 'numpy.float64'"
     ]
    }
   ],
   "source": [
    "from recore import Residual_fraction\n",
    "\n",
    "residual_fraction = Residual_fraction(molecular_weight_max,molar_fraction_max)\n",
    "\n",
    "carbon_range_it = list(range(carbonnumber_max,201,1))\n",
    "res_carbon_number_mx = residual_fraction.carbon_number_max(carbon_range_it, Ac, Bc, C)"
   ]
  },
  {
   "cell_type": "code",
   "execution_count": null,
   "metadata": {},
   "outputs": [],
   "source": []
  }
 ],
 "metadata": {
  "kernelspec": {
   "display_name": "Python 3.8.10 64-bit",
   "language": "python",
   "name": "python3"
  },
  "language_info": {
   "codemirror_mode": {
    "name": "ipython",
    "version": 3
   },
   "file_extension": ".py",
   "mimetype": "text/x-python",
   "name": "python",
   "nbconvert_exporter": "python",
   "pygments_lexer": "ipython3",
   "version": "3.8.10"
  },
  "orig_nbformat": 4,
  "vscode": {
   "interpreter": {
    "hash": "916dbcbb3f70747c44a77c7bcd40155683ae19c65e1c03b4aa3499c5328201f1"
   }
  }
 },
 "nbformat": 4,
 "nbformat_minor": 2
}
