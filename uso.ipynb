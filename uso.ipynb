{
 "cells": [
  {
   "cell_type": "code",
   "execution_count": 33,
   "metadata": {},
   "outputs": [],
   "source": [
    "import pandas as pd\n",
    "import numpy as np\n",
    "from scipy.optimize import curve_fit"
   ]
  },
  {
   "cell_type": "code",
   "execution_count": 35,
   "metadata": {},
   "outputs": [],
   "source": [
    "df = pd.read_csv('com.csv')\n",
    "carbon_number = df['component']\n",
    "molar_fraction = df['molar_percentage']\n",
    "molecular_weight = df['molar_mass']\n",
    "density = df['density']\n",
    "\n",
    "carbonnumber_max = carbon_number.values[-2]\n",
    "molar_fraction_max = molar_fraction.values[-2]\n",
    "molecular_weight_max = molecular_weight.values[-2]"
   ]
  },
  {
   "cell_type": "markdown",
   "metadata": {},
   "source": [
    "Primero ajusto los parámetros para obtener todas las constantes intervinientes"
   ]
  },
  {
   "cell_type": "code",
   "execution_count": 36,
   "metadata": {},
   "outputs": [
    {
     "data": {
      "text/plain": [
       "{'A': 5.269814253877877,\n",
       " 'B': -2.693453959800989,\n",
       " 'L': 0.5181480379693734,\n",
       " 'M': 0.2693755951739469,\n",
       " 'Ac': 2.9969050222015183,\n",
       " 'Bc': -87.60869574376241,\n",
       " 'Ad': -0.4578051749233114,\n",
       " 'C': 13.913346938986416}"
      ]
     },
     "execution_count": 36,
     "metadata": {},
     "output_type": "execute_result"
    }
   ],
   "source": [
    "from recore import Foo_fit\n",
    "foo_fit = Foo_fit()\n",
    "\n",
    "A,B = foo_fit.fit_AB(carbon_number,molar_fraction)\n",
    "L,M = foo_fit.fit_LM(carbon_number, density)\n",
    "Ac, Bc = foo_fit.fit_AcBc(carbon_number, molar_fraction)\n",
    "Ad = foo_fit.fit_Ad(carbon_number, density)[0]\n",
    "C = foo_fit.fit_C(carbon_number,molecular_weight) [0]\n",
    "\n",
    "fit_parameters = {\n",
    "    'A':A, 'B':B, 'L':L, 'M':M, 'Ac':Ac, 'Bc':Bc\n",
    "    ,'Ad':Ad,'C':C\n",
    "}\n",
    "\n",
    "fit_parameters"
   ]
  },
  {
   "cell_type": "markdown",
   "metadata": {},
   "source": [
    "Para no utilizar los valores establecidos aleatoriamente por Pedersen para el número máximo de carbono\n",
    "calculo el valor máximo con el criterio de Cismondi et. al"
   ]
  },
  {
   "cell_type": "markdown",
   "metadata": {},
   "source": [
    "¿Cómo resuelvo el problema de multiplicar un float con un set sin afectar los ajustes?"
   ]
  },
  {
   "cell_type": "code",
   "execution_count": 37,
   "metadata": {},
   "outputs": [
    {
     "ename": "TypeError",
     "evalue": "'NoneType' object is not subscriptable",
     "output_type": "error",
     "traceback": [
      "\u001b[0;31m---------------------------------------------------------------------------\u001b[0m",
      "\u001b[0;31mTypeError\u001b[0m                                 Traceback (most recent call last)",
      "\u001b[1;32m/home/marlen/Charapy/Charapy/uso.ipynb Cell 6\u001b[0m in \u001b[0;36m<cell line: 6>\u001b[0;34m()\u001b[0m\n\u001b[1;32m      <a href='vscode-notebook-cell://wsl%2Bubuntu/home/marlen/Charapy/Charapy/uso.ipynb#W5sdnNjb2RlLXJlbW90ZQ%3D%3D?line=2'>3</a>\u001b[0m residual_fraction \u001b[39m=\u001b[39m Residual_fraction(molecular_weight_max,molar_fraction_max)\n\u001b[1;32m      <a href='vscode-notebook-cell://wsl%2Bubuntu/home/marlen/Charapy/Charapy/uso.ipynb#W5sdnNjb2RlLXJlbW90ZQ%3D%3D?line=4'>5</a>\u001b[0m carbon_range_it \u001b[39m=\u001b[39m \u001b[39mlist\u001b[39m(\u001b[39mrange\u001b[39m(carbonnumber_max,\u001b[39m201\u001b[39m,\u001b[39m1\u001b[39m))\n\u001b[0;32m----> <a href='vscode-notebook-cell://wsl%2Bubuntu/home/marlen/Charapy/Charapy/uso.ipynb#W5sdnNjb2RlLXJlbW90ZQ%3D%3D?line=5'>6</a>\u001b[0m res_carbon_number_mx \u001b[39m=\u001b[39m residual_fraction\u001b[39m.\u001b[39;49mcarbon_number_max(carbon_range_it, Ac, Bc, C)\n",
      "File \u001b[0;32m~/Charapy/Charapy/recore.py:511\u001b[0m, in \u001b[0;36mResidual_fraction.carbon_number_max\u001b[0;34m(self, carbon_range, Ac, Bc, C)\u001b[0m\n\u001b[1;32m    508\u001b[0m     molarfraction_values \u001b[39m=\u001b[39m mf_set\u001b[39m.\u001b[39mappend(distribution_cismondi\u001b[39m.\u001b[39mc_molar_fraction(item,Ac,Bc))\n\u001b[1;32m    509\u001b[0m     molecularweight_values \u001b[39m=\u001b[39m mw_set\u001b[39m.\u001b[39mappend(distribution_cismondi\u001b[39m.\u001b[39mc_molecular_weight(item,C))\n\u001b[0;32m--> 511\u001b[0m molecularplus, molarfractionplus \u001b[39m=\u001b[39m proper_plus\u001b[39m.\u001b[39;49mproperties_plus(\n\u001b[1;32m    512\u001b[0m     molarfraction_values, molecularweight_values, carbon_range\n\u001b[1;32m    513\u001b[0m )\n\u001b[1;32m    515\u001b[0m \u001b[39mfor\u001b[39;00m i,j \u001b[39min\u001b[39;00m molecularplus, molarfractionplus:\n\u001b[1;32m    516\u001b[0m     carbonnumber_max \u001b[39m+\u001b[39m\u001b[39m=\u001b[39m\u001b[39m1\u001b[39m\n",
      "File \u001b[0;32m~/Charapy/Charapy/recore.py:468\u001b[0m, in \u001b[0;36mProper_plus.properties_plus\u001b[0;34m(self, molarfraction_values, molecularweight_values, carbon_range)\u001b[0m\n\u001b[1;32m    447\u001b[0m \u001b[39m\"\"\"Function to calculate residual fraction properties\u001b[39;00m\n\u001b[1;32m    448\u001b[0m \u001b[39m\u001b[39;00m\n\u001b[1;32m    449\u001b[0m \u001b[39mParameters\u001b[39;00m\n\u001b[0;32m   (...)\u001b[0m\n\u001b[1;32m    463\u001b[0m \u001b[39m    Molar fraction to residual fraction\u001b[39;00m\n\u001b[1;32m    464\u001b[0m \u001b[39m\"\"\"\u001b[39;00m\n\u001b[1;32m    466\u001b[0m \u001b[39mfor\u001b[39;00m i \u001b[39min\u001b[39;00m carbon_range:\n\u001b[1;32m    467\u001b[0m     molecularplus \u001b[39m=\u001b[39m (\n\u001b[0;32m--> 468\u001b[0m         molarfraction_values[:i]\u001b[39m*\u001b[39mmolecularweight_values[:i])\u001b[39m.\u001b[39msum(\n\u001b[1;32m    469\u001b[0m         )\u001b[39m/\u001b[39m(molarfraction_values[:i]\u001b[39m.\u001b[39msum()\n\u001b[1;32m    470\u001b[0m         )\n\u001b[1;32m    471\u001b[0m     molarplus \u001b[39m=\u001b[39m molarfraction_values[:i]\u001b[39m.\u001b[39msum()\n\u001b[1;32m    473\u001b[0m \u001b[39mreturn\u001b[39;00m molecularplus, molarplus\n",
      "\u001b[0;31mTypeError\u001b[0m: 'NoneType' object is not subscriptable"
     ]
    }
   ],
   "source": [
    "from recore import Residual_fraction\n",
    "\n",
    "residual_fraction = Residual_fraction(molecular_weight_max,molar_fraction_max)\n",
    "\n",
    "carbon_range_it = list(range(carbonnumber_max,201,1))\n",
    "res_carbon_number_mx = residual_fraction.carbon_number_max(carbon_range_it, Ac, Bc, C)"
   ]
  },
  {
   "cell_type": "code",
   "execution_count": 40,
   "metadata": {},
   "outputs": [
    {
     "ename": "TypeError",
     "evalue": "bad operand type for unary -: 'list'",
     "output_type": "error",
     "traceback": [
      "\u001b[0;31m---------------------------------------------------------------------------\u001b[0m",
      "\u001b[0;31mTypeError\u001b[0m                                 Traceback (most recent call last)",
      "\u001b[1;32m/home/marlen/Charapy/Charapy/uso.ipynb Cell 9\u001b[0m in \u001b[0;36m<cell line: 8>\u001b[0;34m()\u001b[0m\n\u001b[1;32m      <a href='vscode-notebook-cell://wsl%2Bubuntu/home/marlen/Charapy/Charapy/uso.ipynb#W6sdnNjb2RlLXJlbW90ZQ%3D%3D?line=5'>6</a>\u001b[0m c_range \u001b[39m=\u001b[39m \u001b[39mlist\u001b[39m(\u001b[39mrange\u001b[39m(carbonnumber_max\u001b[39m+\u001b[39m\u001b[39m1\u001b[39m,\u001b[39m81\u001b[39m,\u001b[39m1\u001b[39m))\n\u001b[1;32m      <a href='vscode-notebook-cell://wsl%2Bubuntu/home/marlen/Charapy/Charapy/uso.ipynb#W6sdnNjb2RlLXJlbW90ZQ%3D%3D?line=6'>7</a>\u001b[0m ped_density \u001b[39m=\u001b[39m distribution_pedersen\u001b[39m.\u001b[39mp_density(c_range,L,M)\n\u001b[0;32m----> <a href='vscode-notebook-cell://wsl%2Bubuntu/home/marlen/Charapy/Charapy/uso.ipynb#W6sdnNjb2RlLXJlbW90ZQ%3D%3D?line=7'>8</a>\u001b[0m cis_density \u001b[39m=\u001b[39m distribution_cismondi\u001b[39m.\u001b[39;49mc_density(c_range, Ad)\n\u001b[1;32m     <a href='vscode-notebook-cell://wsl%2Bubuntu/home/marlen/Charapy/Charapy/uso.ipynb#W6sdnNjb2RlLXJlbW90ZQ%3D%3D?line=9'>10</a>\u001b[0m ped_mw \u001b[39m=\u001b[39m distribution_pedersen\u001b[39m.\u001b[39mp_molecular_weight(c_range)\n\u001b[1;32m     <a href='vscode-notebook-cell://wsl%2Bubuntu/home/marlen/Charapy/Charapy/uso.ipynb#W6sdnNjb2RlLXJlbW90ZQ%3D%3D?line=10'>11</a>\u001b[0m cis_mw \u001b[39m=\u001b[39m distribution_cismondi\u001b[39m.\u001b[39mc_molecular_weight(c_range,C)\n",
      "File \u001b[0;32m~/Charapy/Charapy/recore.py:214\u001b[0m, in \u001b[0;36mDistribution_cismondi.c_density\u001b[0;34m(self, cn, Ad)\u001b[0m\n\u001b[1;32m    210\u001b[0m     Ad \u001b[39m=\u001b[39m foo_fit\u001b[39m.\u001b[39mfit_Ad(car, d)\n\u001b[1;32m    212\u001b[0m Bd \u001b[39m=\u001b[39m \u001b[39m0.685\u001b[39m \u001b[39m-\u001b[39m Ad \u001b[39m*\u001b[39m np\u001b[39m.\u001b[39mexp(\u001b[39m-\u001b[39m\u001b[39m0.6\u001b[39m)\n\u001b[0;32m--> 214\u001b[0m \u001b[39mreturn\u001b[39;00m Ad \u001b[39m*\u001b[39m (np\u001b[39m.\u001b[39mexp(\u001b[39m-\u001b[39;49mcn \u001b[39m/\u001b[39m \u001b[39m10\u001b[39m)) \u001b[39m+\u001b[39m Bd\n",
      "\u001b[0;31mTypeError\u001b[0m: bad operand type for unary -: 'list'"
     ]
    }
   ],
   "source": [
    "from recore import Distribution_pedersen, Distribution_cismondi\n",
    "\n",
    "distribution_pedersen = Distribution_pedersen()\n",
    "distribution_cismondi = Distribution_cismondi()\n",
    "\n",
    "c_range = list(range(carbonnumber_max+1,81,1))\n",
    "ped_density = distribution_pedersen.p_density(c_range,L,M)\n",
    "cis_density = distribution_cismondi.c_density(c_range, Ad)\n",
    "\n",
    "ped_mw = distribution_pedersen.p_molecular_weight(c_range)\n",
    "cis_mw = distribution_cismondi.c_molecular_weight(c_range,C)\n",
    "\n",
    "ped_mf = distribution_pedersen.p_molar_fraction(c_range,A,B)\n",
    "cis_mf = distribution_cismondi.c_molar_fraction(c_range, Ac, Bc)\n"
   ]
  },
  {
   "cell_type": "code",
   "execution_count": null,
   "metadata": {},
   "outputs": [],
   "source": []
  }
 ],
 "metadata": {
  "kernelspec": {
   "display_name": "Python 3.8.10 64-bit",
   "language": "python",
   "name": "python3"
  },
  "language_info": {
   "codemirror_mode": {
    "name": "ipython",
    "version": 3
   },
   "file_extension": ".py",
   "mimetype": "text/x-python",
   "name": "python",
   "nbconvert_exporter": "python",
   "pygments_lexer": "ipython3",
   "version": "3.8.10"
  },
  "orig_nbformat": 4,
  "vscode": {
   "interpreter": {
    "hash": "916dbcbb3f70747c44a77c7bcd40155683ae19c65e1c03b4aa3499c5328201f1"
   }
  }
 },
 "nbformat": 4,
 "nbformat_minor": 2
}
