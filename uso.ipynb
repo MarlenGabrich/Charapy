{
 "cells": [
  {
   "cell_type": "code",
   "execution_count": 1,
   "metadata": {},
   "outputs": [],
   "source": [
    "import pandas as pd\n",
    "import numpy as np\n",
    "from scipy.optimize import curve_fit"
   ]
  },
  {
   "cell_type": "code",
   "execution_count": 2,
   "metadata": {},
   "outputs": [],
   "source": [
    "df = pd.read_csv('com.csv')\n",
    "carbon_number = df['component']\n",
    "molar_fraction = df['molar_percentage']\n",
    "molecular_weight = df['molar_mass']\n",
    "density = df['density']\n",
    "\n",
    "carbon_number_max = carbon_number.values[-2]\n",
    "molar_fraction_max = molar_fraction.values[-2]\n",
    "molecular_weight_max = molecular_weight.values[-2]"
   ]
  },
  {
   "cell_type": "markdown",
   "metadata": {},
   "source": [
    "Primero ajusto los parámetros para obtener todas las constantes intervinientes"
   ]
  },
  {
   "cell_type": "code",
   "execution_count": 3,
   "metadata": {},
   "outputs": [
    {
     "data": {
      "text/plain": [
       "{'A': 5.269814253877877,\n",
       " 'B': -2.693453959800989,\n",
       " 'L': 0.5181480379693734,\n",
       " 'M': 0.2693755951739469,\n",
       " 'Ac': 2.9969050222015183,\n",
       " 'Bc': -87.60869574376241,\n",
       " 'Ad': -0.4578051749233114,\n",
       " 'C': 13.913346938986416}"
      ]
     },
     "execution_count": 3,
     "metadata": {},
     "output_type": "execute_result"
    }
   ],
   "source": [
    "from recore import Foo_fit\n",
    "foo_fit = Foo_fit()\n",
    "\n",
    "A,B = foo_fit.fit_AB(carbon_number,molar_fraction)\n",
    "L,M = foo_fit.fit_LM(carbon_number, density)\n",
    "Ac, Bc = foo_fit.fit_AcBc(carbon_number, molar_fraction)\n",
    "Ad = foo_fit.fit_Ad(carbon_number, density)[0]\n",
    "C = foo_fit.fit_C(carbon_number,molecular_weight) [0]\n",
    "\n",
    "fit_parameters = {\n",
    "    'A':A, 'B':B, 'L':L, 'M':M, 'Ac':Ac, 'Bc':Bc\n",
    "    ,'Ad':Ad,'C':C\n",
    "}\n",
    "\n",
    "fit_parameters"
   ]
  },
  {
   "cell_type": "markdown",
   "metadata": {},
   "source": [
    "Para no utilizar los valores establecidos aleatoriamente por Pedersen para el número máximo de carbono\n",
    "calculo el valor máximo con el criterio de Cismondi et. al"
   ]
  },
  {
   "cell_type": "code",
   "execution_count": 7,
   "metadata": {},
   "outputs": [
    {
     "ename": "AttributeError",
     "evalue": "'Residual_fraction' object has no attribute 'Ac'",
     "output_type": "error",
     "traceback": [
      "\u001b[0;31m---------------------------------------------------------------------------\u001b[0m",
      "\u001b[0;31mAttributeError\u001b[0m                            Traceback (most recent call last)",
      "\u001b[1;32m/home/marlen/Charapy/Charapy/uso.ipynb Cell 6\u001b[0m in \u001b[0;36m<cell line: 5>\u001b[0;34m()\u001b[0m\n\u001b[1;32m      <a href='vscode-notebook-cell://wsl%2Bubuntu/home/marlen/Charapy/Charapy/uso.ipynb#W5sdnNjb2RlLXJlbW90ZQ%3D%3D?line=2'>3</a>\u001b[0m residual_fraction \u001b[39m=\u001b[39m Residual_fraction(molecular_weight_max,molar_fraction_max)\n\u001b[1;32m      <a href='vscode-notebook-cell://wsl%2Bubuntu/home/marlen/Charapy/Charapy/uso.ipynb#W5sdnNjb2RlLXJlbW90ZQ%3D%3D?line=3'>4</a>\u001b[0m carbon_range_it \u001b[39m=\u001b[39m \u001b[39mrange\u001b[39m(\u001b[39m0\u001b[39m,\u001b[39m200\u001b[39m)\n\u001b[0;32m----> <a href='vscode-notebook-cell://wsl%2Bubuntu/home/marlen/Charapy/Charapy/uso.ipynb#W5sdnNjb2RlLXJlbW90ZQ%3D%3D?line=4'>5</a>\u001b[0m res_carbon_number_max \u001b[39m=\u001b[39m residual_fraction\u001b[39m.\u001b[39;49mcarbon_number_max(carbon_range_it)\n",
      "File \u001b[0;32m~/Charapy/Charapy/recore.py:490\u001b[0m, in \u001b[0;36mResidual_fraction.carbon_number_max\u001b[0;34m(self, carbon_range)\u001b[0m\n\u001b[1;32m    475\u001b[0m \u001b[39m\"\"\"Maximum carbon number based on Cismondi's observations\u001b[39;00m\n\u001b[1;32m    476\u001b[0m \u001b[39m\u001b[39;00m\n\u001b[1;32m    477\u001b[0m \u001b[39mParameters\u001b[39;00m\n\u001b[0;32m   (...)\u001b[0m\n\u001b[1;32m    487\u001b[0m \u001b[39m    Maximun carbon number\u001b[39;00m\n\u001b[1;32m    488\u001b[0m \u001b[39m\"\"\"\u001b[39;00m\n\u001b[1;32m    489\u001b[0m distribution_cismondi \u001b[39m=\u001b[39m Distribution_cismondi()\n\u001b[0;32m--> 490\u001b[0m molarfraction_values \u001b[39m=\u001b[39m distribution_cismondi\u001b[39m.\u001b[39mc_molar_fraction(carbon_range,\u001b[39mself\u001b[39;49m\u001b[39m.\u001b[39;49mAc,\u001b[39mself\u001b[39m\u001b[39m.\u001b[39mBc)\n\u001b[1;32m    491\u001b[0m molecularweight_values \u001b[39m=\u001b[39m distribution_cismondi\u001b[39m.\u001b[39mc_molecular_weight(carbon_range,\u001b[39mself\u001b[39m\u001b[39m.\u001b[39mC)\n\u001b[1;32m    492\u001b[0m carbonnumber_max \u001b[39m=\u001b[39m carbon_range\u001b[39m.\u001b[39mvalues[\u001b[39m0\u001b[39m]\u001b[39m-\u001b[39m\u001b[39m1\u001b[39m\n",
      "\u001b[0;31mAttributeError\u001b[0m: 'Residual_fraction' object has no attribute 'Ac'"
     ]
    }
   ],
   "source": [
    "from recore import Residual_fraction\n",
    "\n",
    "residual_fraction = Residual_fraction(molecular_weight_max,molar_fraction_max)\n",
    "carbon_range_it = range(0,200)\n",
    "res_carbon_number_max = residual_fraction.carbon_number_max(carbon_range_it)"
   ]
  },
  {
   "cell_type": "code",
   "execution_count": null,
   "metadata": {},
   "outputs": [],
   "source": []
  }
 ],
 "metadata": {
  "kernelspec": {
   "display_name": "Python 3.8.10 64-bit",
   "language": "python",
   "name": "python3"
  },
  "language_info": {
   "codemirror_mode": {
    "name": "ipython",
    "version": 3
   },
   "file_extension": ".py",
   "mimetype": "text/x-python",
   "name": "python",
   "nbconvert_exporter": "python",
   "pygments_lexer": "ipython3",
   "version": "3.8.10"
  },
  "orig_nbformat": 4,
  "vscode": {
   "interpreter": {
    "hash": "916dbcbb3f70747c44a77c7bcd40155683ae19c65e1c03b4aa3499c5328201f1"
   }
  }
 },
 "nbformat": 4,
 "nbformat_minor": 2
}
