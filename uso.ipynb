{
 "cells": [
  {
   "cell_type": "code",
   "execution_count": 8,
   "metadata": {},
   "outputs": [],
   "source": [
    "import pandas as pd\n",
    "import numpy as np\n",
    "from scipy.optimize import curve_fit"
   ]
  },
  {
   "cell_type": "code",
   "execution_count": 44,
   "metadata": {},
   "outputs": [],
   "source": [
    "df = pd.read_csv('com.csv')\n",
    "carbon_number = df['component']\n",
    "molar_fraction = df['molar_percentage']\n",
    "molecular_weight = df['molar_mass']\n",
    "density = df['density']\n",
    "\n",
    "carbonnumber_max = carbon_number.values[-2]\n",
    "molar_fraction_max = molar_fraction.values[-2]\n",
    "molecular_weight_max = molecular_weight.values[-2]"
   ]
  },
  {
   "cell_type": "markdown",
   "metadata": {},
   "source": [
    "Primero ajusto los parámetros para obtener todas las constantes intervinientes"
   ]
  },
  {
   "cell_type": "code",
   "execution_count": 38,
   "metadata": {},
   "outputs": [
    {
     "data": {
      "text/plain": [
       "{'A': 5.269814253877877,\n",
       " 'B': -2.693453959800989,\n",
       " 'L': 0.5181480379693734,\n",
       " 'M': 0.2693755951739469,\n",
       " 'Ac': 2.9969050222015183,\n",
       " 'Bc': -87.60869574376241,\n",
       " 'Ad': -0.4578051749233114,\n",
       " 'C': 13.913346938986416}"
      ]
     },
     "execution_count": 38,
     "metadata": {},
     "output_type": "execute_result"
    }
   ],
   "source": [
    "from recore import Foo_fit\n",
    "foo_fit = Foo_fit()\n",
    "\n",
    "A,B = foo_fit.fit_AB(carbon_number,molar_fraction)\n",
    "L,M = foo_fit.fit_LM(carbon_number, density)\n",
    "Ac, Bc = foo_fit.fit_AcBc(carbon_number, molar_fraction)\n",
    "Ad = foo_fit.fit_Ad(carbon_number, density)[0]\n",
    "C = foo_fit.fit_C(carbon_number,molecular_weight) [0]\n",
    "\n",
    "fit_parameters = {\n",
    "    'A':A, 'B':B, 'L':L, 'M':M, 'Ac':Ac, 'Bc':Bc\n",
    "    ,'Ad':Ad,'C':C\n",
    "}\n",
    "\n",
    "fit_parameters"
   ]
  },
  {
   "cell_type": "markdown",
   "metadata": {},
   "source": [
    "Para no utilizar los valores establecidos aleatoriamente por Pedersen para el número máximo de carbono\n",
    "calculo el valor máximo con el criterio de Cismondi et. al"
   ]
  },
  {
   "cell_type": "code",
   "execution_count": 47,
   "metadata": {},
   "outputs": [
    {
     "ename": "TypeError",
     "evalue": "carbon_number_max() takes 2 positional arguments but 5 were given",
     "output_type": "error",
     "traceback": [
      "\u001b[0;31m---------------------------------------------------------------------------\u001b[0m",
      "\u001b[0;31mTypeError\u001b[0m                                 Traceback (most recent call last)",
      "\u001b[1;32m/home/marlen/Charapy/Charapy/uso.ipynb Cell 6\u001b[0m in \u001b[0;36m<cell line: 6>\u001b[0;34m()\u001b[0m\n\u001b[1;32m      <a href='vscode-notebook-cell://wsl%2Bubuntu/home/marlen/Charapy/Charapy/uso.ipynb#W5sdnNjb2RlLXJlbW90ZQ%3D%3D?line=2'>3</a>\u001b[0m residual_fraction \u001b[39m=\u001b[39m Residual_fraction(molecular_weight_max,molar_fraction_max)\n\u001b[1;32m      <a href='vscode-notebook-cell://wsl%2Bubuntu/home/marlen/Charapy/Charapy/uso.ipynb#W5sdnNjb2RlLXJlbW90ZQ%3D%3D?line=4'>5</a>\u001b[0m carbon_range_it \u001b[39m=\u001b[39m \u001b[39mlist\u001b[39m(\u001b[39mrange\u001b[39m(carbonnumber_max,\u001b[39m201\u001b[39m,\u001b[39m1\u001b[39m))\n\u001b[0;32m----> <a href='vscode-notebook-cell://wsl%2Bubuntu/home/marlen/Charapy/Charapy/uso.ipynb#W5sdnNjb2RlLXJlbW90ZQ%3D%3D?line=5'>6</a>\u001b[0m res_carbon_number_max \u001b[39m=\u001b[39m residual_fraction\u001b[39m.\u001b[39;49mcarbon_number_max(carbon_range_it,Ac,Bc,C)\n",
      "\u001b[0;31mTypeError\u001b[0m: carbon_number_max() takes 2 positional arguments but 5 were given"
     ]
    }
   ],
   "source": [
    "from recore import Residual_fraction\n",
    "\n",
    "residual_fraction = Residual_fraction(molecular_weight_max,molar_fraction_max)\n",
    "\n",
    "carbon_range_it = list(range(carbonnumber_max,201,1))\n",
    "res_carbon_number_max = residual_fraction.carbon_number_max(carbon_range_it,Ac,Bc,C)"
   ]
  },
  {
   "cell_type": "code",
   "execution_count": null,
   "metadata": {},
   "outputs": [],
   "source": []
  }
 ],
 "metadata": {
  "kernelspec": {
   "display_name": "Python 3.8.10 64-bit",
   "language": "python",
   "name": "python3"
  },
  "language_info": {
   "codemirror_mode": {
    "name": "ipython",
    "version": 3
   },
   "file_extension": ".py",
   "mimetype": "text/x-python",
   "name": "python",
   "nbconvert_exporter": "python",
   "pygments_lexer": "ipython3",
   "version": "3.8.10"
  },
  "orig_nbformat": 4,
  "vscode": {
   "interpreter": {
    "hash": "916dbcbb3f70747c44a77c7bcd40155683ae19c65e1c03b4aa3499c5328201f1"
   }
  }
 },
 "nbformat": 4,
 "nbformat_minor": 2
}
