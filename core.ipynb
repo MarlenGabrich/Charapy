{
 "cells": [
  {
   "cell_type": "code",
   "execution_count": 57,
   "metadata": {},
   "outputs": [],
   "source": [
    "import numpy as np\n",
    "from scipy.optimize import curve_fit\n",
    "from numpy import sqrt\n",
    "import pandas as pd\n",
    "import recore as rc\n",
    "from recore import *"
   ]
  },
  {
   "cell_type": "code",
   "execution_count": 103,
   "metadata": {},
   "outputs": [],
   "source": [
    "class Proper_plus():\n",
    "    def __init__(self):\n",
    "        ...\n",
    "    def properties_plus(self, molarfraction_values, molecularweight_values, i):\n",
    "        \"\"\"Function to calculate residual fraction properties\n",
    "        \n",
    "        Parameters\n",
    "        ----------\n",
    "        i: int\n",
    "            Carbon number into range \n",
    "        molarfraction_values: float\n",
    "            Molar fraction values to i\n",
    "        molecularweight_values: float\n",
    "            Molecular weight values to i\n",
    "\n",
    "        Return\n",
    "        ------\n",
    "        molecularplus: float\n",
    "            Molecular values to residual fraction\n",
    "        molarplus: float\n",
    "            Molar fraction to residual fraction\n",
    "        \"\"\"\n",
    "        molecularplus = (molarfraction_values[:i]*molecularweight_values[:i]).sum()/(molarfraction_values[:i].sum())\n",
    "        molarplus = molarfraction_values[:i].sum()\n",
    "\n",
    "        return molecularplus, molarplus"
   ]
  },
  {
   "cell_type": "code",
   "execution_count": 34,
   "metadata": {},
   "outputs": [],
   "source": [
    "class Residual_fraction(Distribution_cismondi, Proper_plus):\n",
    "    def __init__(self,mw_max,mf_max):\n",
    "        self.molecularweight_max = mw_max\n",
    "        self.molarfraction_max = mf_max\n",
    "\n",
    "    def carbon_number_max(self, carbon_range, select_function):\n",
    "        \"\"\"Maximum carbon number based on Cismondi's observations\n",
    "        \n",
    "        Parameters\n",
    "        ----------\n",
    "        carbon_range: int\n",
    "            Carbon range to distribute\n",
    "        select_function: function \n",
    "            Distribution function\n",
    "\n",
    "        Returns\n",
    "        -------\n",
    "        carbonnumber_max: int\n",
    "            Maximun carbon number\n",
    "        \"\"\"\n",
    "        molarfraction_values = self.molar_fraction(carbon_range,self.Ac,self.Bc)\n",
    "        molecularweight_values = self.molecular_weight(carbon_range,self.C)\n",
    "        carbonnumber_max = carbon_range[0]-1\n",
    "\n",
    "        proper_plus = Proper_plus()\n",
    "        \n",
    "        for i in carbon_range:\n",
    "            molecularplus, molarfractionplus = proper_plus.properties_plus(molarfraction_values,molecularweight_values,i)\n",
    "            carbonnumber_max +=1\n",
    "            if molecularplus > self.molecularweight_max or molarfractionplus > self.molarfraction_max:\n",
    "                break \n",
    "        \n",
    "        return carbonnumber_max     \n"
   ]
  }
 ],
 "metadata": {
  "kernelspec": {
   "display_name": "Python 3.8.10 64-bit",
   "language": "python",
   "name": "python3"
  },
  "language_info": {
   "codemirror_mode": {
    "name": "ipython",
    "version": 3
   },
   "file_extension": ".py",
   "mimetype": "text/x-python",
   "name": "python",
   "nbconvert_exporter": "python",
   "pygments_lexer": "ipython3",
   "version": "3.8.10"
  },
  "orig_nbformat": 4,
  "vscode": {
   "interpreter": {
    "hash": "916dbcbb3f70747c44a77c7bcd40155683ae19c65e1c03b4aa3499c5328201f1"
   }
  }
 },
 "nbformat": 4,
 "nbformat_minor": 2
}
