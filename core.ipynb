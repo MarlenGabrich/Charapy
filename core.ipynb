{
 "cells": [
  {
   "cell_type": "code",
   "execution_count": 1,
   "metadata": {},
   "outputs": [],
   "source": [
    "import numpy as np\n",
    "from scipy.optimize import curve_fit\n",
    "from numpy import sqrt\n",
    "import pandas as pd\n",
    "from core import PedersenModel"
   ]
  },
  {
   "cell_type": "code",
   "execution_count": 8,
   "metadata": {},
   "outputs": [
    {
     "ename": "AttributeError",
     "evalue": "'CismondiModel' object has no attribute 'A'",
     "output_type": "error",
     "traceback": [
      "\u001b[0;31m---------------------------------------------------------------------------\u001b[0m",
      "\u001b[0;31mAttributeError\u001b[0m                            Traceback (most recent call last)",
      "\u001b[1;32m/home/marlen/Charapy/Charapy/core.ipynb Cell 2\u001b[0m in \u001b[0;36m<cell line: 2>\u001b[0;34m()\u001b[0m\n\u001b[1;32m      <a href='vscode-notebook-cell://wsl%2Bubuntu/home/marlen/Charapy/Charapy/core.ipynb#W3sdnNjb2RlLXJlbW90ZQ%3D%3D?line=0'>1</a>\u001b[0m a \u001b[39m=\u001b[39m CismondiModel()\n\u001b[0;32m----> <a href='vscode-notebook-cell://wsl%2Bubuntu/home/marlen/Charapy/Charapy/core.ipynb#W3sdnNjb2RlLXJlbW90ZQ%3D%3D?line=1'>2</a>\u001b[0m a\u001b[39m.\u001b[39;49mcarbon_number(\u001b[39m2.4\u001b[39;49m,A\u001b[39m=\u001b[39;49m\u001b[39m2\u001b[39;49m,B\u001b[39m=\u001b[39;49m\u001b[39m3\u001b[39;49m)\n",
      "File \u001b[0;32m~/Charapy/Charapy/core.py:32\u001b[0m, in \u001b[0;36mDistributionModel.carbon_number\u001b[0;34m(self, z, A, B)\u001b[0m\n\u001b[1;32m     11\u001b[0m \u001b[39m\"\"\"Carbon number fraction function \u001b[39;00m\n\u001b[1;32m     12\u001b[0m \n\u001b[1;32m     13\u001b[0m \u001b[39mEstimates the carbon number based on a composition\u001b[39;00m\n\u001b[0;32m   (...)\u001b[0m\n\u001b[1;32m     29\u001b[0m \u001b[39m\u001b[39;00m\n\u001b[1;32m     30\u001b[0m \u001b[39m\"\"\"\u001b[39;00m\n\u001b[1;32m     31\u001b[0m \u001b[39mif\u001b[39;00m A \u001b[39mor\u001b[39;00m B \u001b[39mis\u001b[39;00m \u001b[39mNone\u001b[39;00m:\n\u001b[0;32m---> 32\u001b[0m     A,B \u001b[39m=\u001b[39m \u001b[39mself\u001b[39;49m\u001b[39m.\u001b[39;49mA, \u001b[39mself\u001b[39m\u001b[39m.\u001b[39mB\n\u001b[1;32m     34\u001b[0m \u001b[39mreturn\u001b[39;00m (A\u001b[39m+\u001b[39mB\u001b[39m*\u001b[39mnp\u001b[39m.\u001b[39mlog(z))\n",
      "\u001b[0;31mAttributeError\u001b[0m: 'CismondiModel' object has no attribute 'A'"
     ]
    }
   ],
   "source": [
    "a = PedersenModel()\n",
    "a.carbon_number(2.4)"
   ]
  },
  {
   "cell_type": "code",
   "execution_count": 103,
   "metadata": {},
   "outputs": [],
   "source": [
    "def properties_plus(self, molarfraction_values, molecularweight_values, i):\n",
    "        \"\"\"Function to calculate residual fraction properties\n",
    "        \n",
    "        Parameters\n",
    "        ----------\n",
    "        i: int\n",
    "            Carbon number into range \n",
    "        molarfraction_values: float\n",
    "            Molar fraction values to i\n",
    "        molecularweight_values: float\n",
    "            Molecular weight values to i\n",
    "\n",
    "        Return\n",
    "        ------\n",
    "        molecularplus: float\n",
    "            Molecular values to residual fraction\n",
    "        molarplus: float\n",
    "            Molar fraction to residual fraction\n",
    "        \"\"\"\n",
    "        molecularplus = (molarfraction_values[:i]*molecularweight_values[:i]).sum()/(molarfraction_values[:i].sum())\n",
    "        molarplus = molarfraction_values[:i].sum()\n",
    "\n",
    "        return molecularplus, molarplus"
   ]
  },
  {
   "cell_type": "code",
   "execution_count": 34,
   "metadata": {},
   "outputs": [],
   "source": [
    "class Residual_fraction(CismondiModel):\n",
    "    def __init__(self,mw_max,mf_max):\n",
    "        self.molecularweight_max = mw_max\n",
    "        self.molarfraction_max = mf_max\n",
    "\n",
    "    def carbon_number_max(self, carbon_range, select_function):\n",
    "        \"\"\"Maximum carbon number based on Cismondi's observations\n",
    "        \n",
    "        Parameters\n",
    "        ----------\n",
    "        carbon_range: int\n",
    "            Carbon range to distribute\n",
    "        select_function: function \n",
    "            Distribution function\n",
    "\n",
    "        Returns\n",
    "        -------\n",
    "        carbonnumber_max: int\n",
    "            Maximun carbon number\n",
    "        \"\"\"\n",
    "        molarfraction_values = self.molar_fraction(carbon_range,self.Ac,self.Bc)\n",
    "        molecularweight_values = self.molecular_weight(carbon_range,self.C)\n",
    "        carbonnumber_max = carbon_range[0]-1\n",
    "\n",
    "        for i in carbon_range:\n",
    "            molecularplus, molarfractionplus = properties_plus(molarfraction_values,molecularweight_values,i)\n",
    "            carbonnumber_max +=1\n",
    "            if molecularplus > self.molecularweight_max or molarfractionplus > self.molarfraction_max:\n",
    "                break \n",
    "        \n",
    "        return carbonnumber_max     \n"
   ]
  }
 ],
 "metadata": {
  "kernelspec": {
   "display_name": "Python 3.8.10 64-bit",
   "language": "python",
   "name": "python3"
  },
  "language_info": {
   "codemirror_mode": {
    "name": "ipython",
    "version": 3
   },
   "file_extension": ".py",
   "mimetype": "text/x-python",
   "name": "python",
   "nbconvert_exporter": "python",
   "pygments_lexer": "ipython3",
   "version": "3.8.10"
  },
  "orig_nbformat": 4,
  "vscode": {
   "interpreter": {
    "hash": "916dbcbb3f70747c44a77c7bcd40155683ae19c65e1c03b4aa3499c5328201f1"
   }
  }
 },
 "nbformat": 4,
 "nbformat_minor": 2
}
