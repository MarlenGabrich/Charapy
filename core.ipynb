{
 "cells": [
  {
   "cell_type": "code",
   "execution_count": 27,
   "metadata": {},
   "outputs": [],
   "source": [
    "import numpy as np\n",
    "from scipy.optimize import curve_fit\n",
    "from numpy import sqrt\n",
    "import pandas as pd\n",
    "import recore as rc\n",
    "from recore import Distribution_cismondi\n",
    "from recore import Foos"
   ]
  },
  {
   "cell_type": "code",
   "execution_count": 29,
   "metadata": {},
   "outputs": [
    {
     "data": {
      "text/plain": [
       "<recore.Foos at 0x7f44eb2238e0>"
      ]
     },
     "execution_count": 29,
     "metadata": {},
     "output_type": "execute_result"
    }
   ],
   "source": [
    "testInstance = rc.Foos()\n",
    "testInstance"
   ]
  },
  {
   "cell_type": "code",
   "execution_count": 17,
   "metadata": {},
   "outputs": [
    {
     "ename": "TypeError",
     "evalue": "carbon_number_foo() missing 1 required positional argument: 'self'",
     "output_type": "error",
     "traceback": [
      "\u001b[0;31m---------------------------------------------------------------------------\u001b[0m",
      "\u001b[0;31mTypeError\u001b[0m                                 Traceback (most recent call last)",
      "\u001b[1;32m/home/marlen/Charapy/Charapy/core.ipynb Cell 2\u001b[0m in \u001b[0;36m<cell line: 3>\u001b[0;34m()\u001b[0m\n\u001b[1;32m      <a href='vscode-notebook-cell://wsl%2Bubuntu/home/marlen/Charapy/Charapy/core.ipynb#W1sdnNjb2RlLXJlbW90ZQ%3D%3D?line=0'>1</a>\u001b[0m \u001b[39mfrom\u001b[39;00m \u001b[39mrecore\u001b[39;00m \u001b[39mimport\u001b[39;00m Distribution_pedersen\n\u001b[1;32m      <a href='vscode-notebook-cell://wsl%2Bubuntu/home/marlen/Charapy/Charapy/core.ipynb#W1sdnNjb2RlLXJlbW90ZQ%3D%3D?line=1'>2</a>\u001b[0m a \u001b[39m=\u001b[39m Distribution_pedersen\n\u001b[0;32m----> <a href='vscode-notebook-cell://wsl%2Bubuntu/home/marlen/Charapy/Charapy/core.ipynb#W1sdnNjb2RlLXJlbW90ZQ%3D%3D?line=2'>3</a>\u001b[0m a\u001b[39m.\u001b[39;49mcarbon_number_foo(z\u001b[39m=\u001b[39;49m\u001b[39m2.8\u001b[39;49m)\n",
      "\u001b[0;31mTypeError\u001b[0m: carbon_number_foo() missing 1 required positional argument: 'self'"
     ]
    }
   ],
   "source": [
    "from recore import Distribution_pedersen\n",
    "a = Distribution_pedersen\n",
    "a.carbon_number_foo(z=2.8)"
   ]
  },
  {
   "cell_type": "code",
   "execution_count": 103,
   "metadata": {},
   "outputs": [],
   "source": [
    "def properties_plus(self, molarfraction_values, molecularweight_values, i):\n",
    "        \"\"\"Function to calculate residual fraction properties\n",
    "        \n",
    "        Parameters\n",
    "        ----------\n",
    "        i: int\n",
    "            Carbon number into range \n",
    "        molarfraction_values: float\n",
    "            Molar fraction values to i\n",
    "        molecularweight_values: float\n",
    "            Molecular weight values to i\n",
    "\n",
    "        Return\n",
    "        ------\n",
    "        molecularplus: float\n",
    "            Molecular values to residual fraction\n",
    "        molarplus: float\n",
    "            Molar fraction to residual fraction\n",
    "        \"\"\"\n",
    "        molecularplus = (molarfraction_values[:i]*molecularweight_values[:i]).sum()/(molarfraction_values[:i].sum())\n",
    "        molarplus = molarfraction_values[:i].sum()\n",
    "\n",
    "        return molecularplus, molarplus"
   ]
  },
  {
   "cell_type": "code",
   "execution_count": 34,
   "metadata": {},
   "outputs": [],
   "source": [
    "class Residual_fraction(Distribution_cismondi):\n",
    "    def __init__(self,mw_max,mf_max):\n",
    "        self.molecularweight_max = mw_max\n",
    "        self.molarfraction_max = mf_max\n",
    "\n",
    "    def carbon_number_max(self, carbon_range, select_function):\n",
    "        \"\"\"Maximum carbon number based on Cismondi's observations\n",
    "        \n",
    "        Parameters\n",
    "        ----------\n",
    "        carbon_range: int\n",
    "            Carbon range to distribute\n",
    "        select_function: function \n",
    "            Distribution function\n",
    "\n",
    "        Returns\n",
    "        -------\n",
    "        carbonnumber_max: int\n",
    "            Maximun carbon number\n",
    "        \"\"\"\n",
    "        molarfraction_values = self.molar_fraction(carbon_range,self.Ac,self.Bc)\n",
    "        molecularweight_values = self.molecular_weight(carbon_range,self.C)\n",
    "        carbonnumber_max = carbon_range[0]-1\n",
    "\n",
    "        for i in carbon_range:\n",
    "            molecularplus, molarfractionplus = properties_plus(molarfraction_values,molecularweight_values,i)\n",
    "            carbonnumber_max +=1\n",
    "            if molecularplus > self.molecularweight_max or molarfractionplus > self.molarfraction_max:\n",
    "                break \n",
    "        \n",
    "        return carbonnumber_max     \n"
   ]
  }
 ],
 "metadata": {
  "kernelspec": {
   "display_name": "Python 3.8.10 64-bit",
   "language": "python",
   "name": "python3"
  },
  "language_info": {
   "codemirror_mode": {
    "name": "ipython",
    "version": 3
   },
   "file_extension": ".py",
   "mimetype": "text/x-python",
   "name": "python",
   "nbconvert_exporter": "python",
   "pygments_lexer": "ipython3",
   "version": "3.8.10"
  },
  "orig_nbformat": 4,
  "vscode": {
   "interpreter": {
    "hash": "916dbcbb3f70747c44a77c7bcd40155683ae19c65e1c03b4aa3499c5328201f1"
   }
  }
 },
 "nbformat": 4,
 "nbformat_minor": 2
}
